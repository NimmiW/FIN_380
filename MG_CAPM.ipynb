{
 "cells": [
  {
   "cell_type": "markdown",
   "metadata": {},
   "source": [
    "### Capital Asset Pricing Model (CAPM)"
   ]
  },
  {
   "cell_type": "code",
   "execution_count": 1,
   "metadata": {
    "collapsed": true
   },
   "outputs": [],
   "source": [
    "from scipy import stats"
   ]
  },
  {
   "cell_type": "code",
   "execution_count": 2,
   "metadata": {},
   "outputs": [
    {
     "name": "stdout",
     "output_type": "stream",
     "text": [
      "Help on function linregress in module scipy.stats._stats_mstats_common:\n",
      "\n",
      "linregress(x, y=None)\n",
      "    Calculate a linear least-squares regression for two sets of measurements.\n",
      "    \n",
      "    Parameters\n",
      "    ----------\n",
      "    x, y : array_like\n",
      "        Two sets of measurements.  Both arrays should have the same length.\n",
      "        If only x is given (and y=None), then it must be a two-dimensional\n",
      "        array where one dimension has length 2.  The two sets of measurements\n",
      "        are then found by splitting the array along the length-2 dimension.\n",
      "    \n",
      "    Returns\n",
      "    -------\n",
      "    slope : float\n",
      "        slope of the regression line\n",
      "    intercept : float\n",
      "        intercept of the regression line\n",
      "    rvalue : float\n",
      "        correlation coefficient\n",
      "    pvalue : float\n",
      "        two-sided p-value for a hypothesis test whose null hypothesis is\n",
      "        that the slope is zero.\n",
      "    stderr : float\n",
      "        Standard error of the estimated gradient.\n",
      "    \n",
      "    See also\n",
      "    --------\n",
      "    :func:`scipy.optimize.curve_fit` : Use non-linear\n",
      "     least squares to fit a function to data.\n",
      "    :func:`scipy.optimize.leastsq` : Minimize the sum of\n",
      "     squares of a set of equations.\n",
      "    \n",
      "    Examples\n",
      "    --------\n",
      "    >>> import matplotlib.pyplot as plt\n",
      "    >>> from scipy import stats\n",
      "    >>> np.random.seed(12345678)\n",
      "    >>> x = np.random.random(10)\n",
      "    >>> y = np.random.random(10)\n",
      "    >>> slope, intercept, r_value, p_value, std_err = stats.linregress(x, y)\n",
      "    \n",
      "    To get coefficient of determination (r_squared)\n",
      "    \n",
      "    >>> print(\"r-squared:\", r_value**2)\n",
      "    ('r-squared:', 0.080402268539028335)\n",
      "    \n",
      "    Plot the data along with the fitted line\n",
      "    \n",
      "    >>> plt.plot(x, y, 'o', label='original data')\n",
      "    >>> plt.plot(x, intercept + slope*x, 'r', label='fitted line')\n",
      "    >>> plt.legend()\n",
      "    >>> plt.show()\n",
      "\n"
     ]
    }
   ],
   "source": [
    "help(stats.linregress)"
   ]
  },
  {
   "cell_type": "code",
   "execution_count": 3,
   "metadata": {
    "collapsed": true
   },
   "outputs": [],
   "source": [
    "import pandas as pd"
   ]
  },
  {
   "cell_type": "code",
   "execution_count": 4,
   "metadata": {
    "collapsed": true
   },
   "outputs": [],
   "source": [
    "import pandas_datareader as web"
   ]
  },
  {
   "cell_type": "code",
   "execution_count": 5,
   "metadata": {
    "collapsed": true
   },
   "outputs": [],
   "source": [
    "spy_etf = web.DataReader('SPY','google')"
   ]
  },
  {
   "cell_type": "code",
   "execution_count": 7,
   "metadata": {},
   "outputs": [
    {
     "name": "stdout",
     "output_type": "stream",
     "text": [
      "<class 'pandas.core.frame.DataFrame'>\n",
      "DatetimeIndex: 251 entries, 2016-11-09 to 2017-11-07\n",
      "Data columns (total 5 columns):\n",
      "Open      250 non-null float64\n",
      "High      250 non-null float64\n",
      "Low       250 non-null float64\n",
      "Close     251 non-null float64\n",
      "Volume    251 non-null int64\n",
      "dtypes: float64(4), int64(1)\n",
      "memory usage: 11.8 KB\n"
     ]
    }
   ],
   "source": [
    "spy_etf.info()"
   ]
  },
  {
   "cell_type": "code",
   "execution_count": 12,
   "metadata": {},
   "outputs": [
    {
     "data": {
      "text/html": [
       "<div>\n",
       "<style>\n",
       "    .dataframe thead tr:only-child th {\n",
       "        text-align: right;\n",
       "    }\n",
       "\n",
       "    .dataframe thead th {\n",
       "        text-align: left;\n",
       "    }\n",
       "\n",
       "    .dataframe tbody tr th {\n",
       "        vertical-align: top;\n",
       "    }\n",
       "</style>\n",
       "<table border=\"1\" class=\"dataframe\">\n",
       "  <thead>\n",
       "    <tr style=\"text-align: right;\">\n",
       "      <th></th>\n",
       "      <th>Open</th>\n",
       "      <th>High</th>\n",
       "      <th>Low</th>\n",
       "      <th>Close</th>\n",
       "      <th>Volume</th>\n",
       "    </tr>\n",
       "    <tr>\n",
       "      <th>Date</th>\n",
       "      <th></th>\n",
       "      <th></th>\n",
       "      <th></th>\n",
       "      <th></th>\n",
       "      <th></th>\n",
       "    </tr>\n",
       "  </thead>\n",
       "  <tbody>\n",
       "    <tr>\n",
       "      <th>2017-11-01</th>\n",
       "      <td>258.04</td>\n",
       "      <td>258.43</td>\n",
       "      <td>257.07</td>\n",
       "      <td>257.49</td>\n",
       "      <td>54202736</td>\n",
       "    </tr>\n",
       "    <tr>\n",
       "      <th>2017-11-02</th>\n",
       "      <td>257.41</td>\n",
       "      <td>257.75</td>\n",
       "      <td>256.19</td>\n",
       "      <td>257.59</td>\n",
       "      <td>56449535</td>\n",
       "    </tr>\n",
       "    <tr>\n",
       "      <th>2017-11-03</th>\n",
       "      <td>257.77</td>\n",
       "      <td>258.50</td>\n",
       "      <td>257.30</td>\n",
       "      <td>258.45</td>\n",
       "      <td>59589730</td>\n",
       "    </tr>\n",
       "    <tr>\n",
       "      <th>2017-11-06</th>\n",
       "      <td>258.30</td>\n",
       "      <td>259.00</td>\n",
       "      <td>258.22</td>\n",
       "      <td>258.85</td>\n",
       "      <td>49652598</td>\n",
       "    </tr>\n",
       "    <tr>\n",
       "      <th>2017-11-07</th>\n",
       "      <td>258.97</td>\n",
       "      <td>259.35</td>\n",
       "      <td>258.09</td>\n",
       "      <td>258.67</td>\n",
       "      <td>56673454</td>\n",
       "    </tr>\n",
       "  </tbody>\n",
       "</table>\n",
       "</div>"
      ],
      "text/plain": [
       "              Open    High     Low   Close    Volume\n",
       "Date                                                \n",
       "2017-11-01  258.04  258.43  257.07  257.49  54202736\n",
       "2017-11-02  257.41  257.75  256.19  257.59  56449535\n",
       "2017-11-03  257.77  258.50  257.30  258.45  59589730\n",
       "2017-11-06  258.30  259.00  258.22  258.85  49652598\n",
       "2017-11-07  258.97  259.35  258.09  258.67  56673454"
      ]
     },
     "execution_count": 12,
     "metadata": {},
     "output_type": "execute_result"
    }
   ],
   "source": [
    "spy_etf.tail()"
   ]
  },
  {
   "cell_type": "code",
   "execution_count": 13,
   "metadata": {
    "collapsed": true
   },
   "outputs": [],
   "source": [
    "start = pd.to_datetime('2016-11-09')\n",
    "end = pd.to_datetime('2017-11-07')"
   ]
  },
  {
   "cell_type": "code",
   "execution_count": 14,
   "metadata": {
    "collapsed": true
   },
   "outputs": [],
   "source": [
    "aapl = web.DataReader('AAPL','google',start,end)"
   ]
  },
  {
   "cell_type": "code",
   "execution_count": 15,
   "metadata": {},
   "outputs": [
    {
     "data": {
      "text/html": [
       "<div>\n",
       "<style>\n",
       "    .dataframe thead tr:only-child th {\n",
       "        text-align: right;\n",
       "    }\n",
       "\n",
       "    .dataframe thead th {\n",
       "        text-align: left;\n",
       "    }\n",
       "\n",
       "    .dataframe tbody tr th {\n",
       "        vertical-align: top;\n",
       "    }\n",
       "</style>\n",
       "<table border=\"1\" class=\"dataframe\">\n",
       "  <thead>\n",
       "    <tr style=\"text-align: right;\">\n",
       "      <th></th>\n",
       "      <th>Open</th>\n",
       "      <th>High</th>\n",
       "      <th>Low</th>\n",
       "      <th>Close</th>\n",
       "      <th>Volume</th>\n",
       "    </tr>\n",
       "    <tr>\n",
       "      <th>Date</th>\n",
       "      <th></th>\n",
       "      <th></th>\n",
       "      <th></th>\n",
       "      <th></th>\n",
       "      <th></th>\n",
       "    </tr>\n",
       "  </thead>\n",
       "  <tbody>\n",
       "    <tr>\n",
       "      <th>2016-11-09</th>\n",
       "      <td>109.88</td>\n",
       "      <td>111.32</td>\n",
       "      <td>108.05</td>\n",
       "      <td>110.88</td>\n",
       "      <td>59176361</td>\n",
       "    </tr>\n",
       "    <tr>\n",
       "      <th>2016-11-10</th>\n",
       "      <td>111.09</td>\n",
       "      <td>111.09</td>\n",
       "      <td>105.83</td>\n",
       "      <td>107.79</td>\n",
       "      <td>57134541</td>\n",
       "    </tr>\n",
       "    <tr>\n",
       "      <th>2016-11-11</th>\n",
       "      <td>107.12</td>\n",
       "      <td>108.87</td>\n",
       "      <td>106.55</td>\n",
       "      <td>108.43</td>\n",
       "      <td>34143898</td>\n",
       "    </tr>\n",
       "    <tr>\n",
       "      <th>2016-11-14</th>\n",
       "      <td>107.71</td>\n",
       "      <td>107.81</td>\n",
       "      <td>104.08</td>\n",
       "      <td>105.71</td>\n",
       "      <td>51175504</td>\n",
       "    </tr>\n",
       "    <tr>\n",
       "      <th>2016-11-15</th>\n",
       "      <td>106.57</td>\n",
       "      <td>107.68</td>\n",
       "      <td>106.16</td>\n",
       "      <td>107.11</td>\n",
       "      <td>32264510</td>\n",
       "    </tr>\n",
       "  </tbody>\n",
       "</table>\n",
       "</div>"
      ],
      "text/plain": [
       "              Open    High     Low   Close    Volume\n",
       "Date                                                \n",
       "2016-11-09  109.88  111.32  108.05  110.88  59176361\n",
       "2016-11-10  111.09  111.09  105.83  107.79  57134541\n",
       "2016-11-11  107.12  108.87  106.55  108.43  34143898\n",
       "2016-11-14  107.71  107.81  104.08  105.71  51175504\n",
       "2016-11-15  106.57  107.68  106.16  107.11  32264510"
      ]
     },
     "execution_count": 15,
     "metadata": {},
     "output_type": "execute_result"
    }
   ],
   "source": [
    "aapl.head()"
   ]
  },
  {
   "cell_type": "code",
   "execution_count": 16,
   "metadata": {
    "collapsed": true
   },
   "outputs": [],
   "source": [
    "import matplotlib.pyplot as plt\n",
    "%matplotlib inline"
   ]
  },
  {
   "cell_type": "code",
   "execution_count": 18,
   "metadata": {},
   "outputs": [
    {
     "data": {
      "image/png": "[encoded data removed]",
      "text/plain": [
       "<matplotlib.figure.Figure at 0x223c6015358>"
      ]
     },
     "metadata": {},
     "output_type": "display_data"
    }
   ],
   "source": [
    "aapl['Close'].plot(label='AAPL',figsize=(10,8))\n",
    "spy_etf['Close'].plot(label='SPY Index')\n",
    "plt.legend();"
   ]
  },
  {
   "cell_type": "code",
   "execution_count": 19,
   "metadata": {
    "collapsed": true
   },
   "outputs": [],
   "source": [
    "aapl['Cumulative'] = aapl['Close']/aapl['Close'].iloc[0]\n",
    "spy_etf['Cumulative'] = spy_etf['Close']/spy_etf['Close'].iloc[0]"
   ]
  },
  {
   "cell_type": "code",
   "execution_count": 20,
   "metadata": {},
   "outputs": [
    {
     "data": {
      "text/plain": [
       "<matplotlib.legend.Legend at 0x223c5a51eb8>"
      ]
     },
     "execution_count": 20,
     "metadata": {},
     "output_type": "execute_result"
    },
    {
     "data": {
      "image/png": "[encoded data removed]",
      "text/plain": [
       "<matplotlib.figure.Figure at 0x223c58d2ef0>"
      ]
     },
     "metadata": {},
     "output_type": "display_data"
    }
   ],
   "source": [
    "aapl['Cumulative'].plot(label='AAPL',figsize=(10,8))\n",
    "spy_etf['Cumulative'].plot(label='SPY')\n",
    "plt.legend()"
   ]
  },
  {
   "cell_type": "code",
   "execution_count": 21,
   "metadata": {
    "collapsed": true
   },
   "outputs": [],
   "source": [
    "aapl['Daily Return'] = aapl['Close'].pct_change(1)\n",
    "spy_etf['Daily Return'] = spy_etf['Close'].pct_change(1)"
   ]
  },
  {
   "cell_type": "code",
   "execution_count": 23,
   "metadata": {},
   "outputs": [
    {
     "data": {
      "image/png": "[encoded data removed]",
      "text/plain": [
       "<matplotlib.figure.Figure at 0x223c61a6ba8>"
      ]
     },
     "metadata": {},
     "output_type": "display_data"
    }
   ],
   "source": [
    "plt.scatter(aapl['Daily Return'],spy_etf['Daily Return'],alpha=0.25);"
   ]
  },
  {
   "cell_type": "code",
   "execution_count": 24,
   "metadata": {
    "collapsed": true
   },
   "outputs": [],
   "source": [
    "beta,alpha,r_value,p_value,std_err = stats.linregress(aapl['Daily Return'].iloc[1:],\n",
    "                                                     spy_etf['Daily Return'].iloc[1:])"
   ]
  },
  {
   "cell_type": "code",
   "execution_count": 25,
   "metadata": {},
   "outputs": [
    {
     "data": {
      "text/plain": [
       "0.19060707354881121"
      ]
     },
     "execution_count": 25,
     "metadata": {},
     "output_type": "execute_result"
    }
   ],
   "source": [
    "# Beta Value\n",
    "beta"
   ]
  },
  {
   "cell_type": "code",
   "execution_count": 28,
   "metadata": {},
   "outputs": [
    {
     "data": {
      "text/plain": [
       "0.00036473879625178416"
      ]
     },
     "execution_count": 28,
     "metadata": {},
     "output_type": "execute_result"
    }
   ],
   "source": [
    "# Alpha Return\n",
    "alpha"
   ]
  },
  {
   "cell_type": "code",
   "execution_count": 29,
   "metadata": {},
   "outputs": [
    {
     "data": {
      "text/plain": [
       "0.48469923010468091"
      ]
     },
     "execution_count": 29,
     "metadata": {},
     "output_type": "execute_result"
    }
   ],
   "source": [
    "# R Squared Value\n",
    "r_value"
   ]
  },
  {
   "cell_type": "markdown",
   "metadata": {},
   "source": [
    "If you had a stock that performed almost exactly like the market, the beta value would be much higher."
   ]
  },
  {
   "cell_type": "code",
   "execution_count": 30,
   "metadata": {},
   "outputs": [
    {
     "data": {
      "text/plain": [
       "Date\n",
       "2016-11-09         NaN\n",
       "2016-11-10    0.002496\n",
       "2016-11-11   -0.002305\n",
       "2016-11-14    0.000786\n",
       "2016-11-15    0.007803\n",
       "Name: Daily Return, dtype: float64"
      ]
     },
     "execution_count": 30,
     "metadata": {},
     "output_type": "execute_result"
    }
   ],
   "source": [
    "spy_etf['Daily Return'].head()"
   ]
  },
  {
   "cell_type": "code",
   "execution_count": 31,
   "metadata": {
    "collapsed": true
   },
   "outputs": [],
   "source": [
    "import numpy as np"
   ]
  },
  {
   "cell_type": "code",
   "execution_count": 32,
   "metadata": {
    "collapsed": true
   },
   "outputs": [],
   "source": [
    "noise = np.random.normal(0,0.001,len(spy_etf['Daily Return'].iloc[1:]))"
   ]
  },
  {
   "cell_type": "code",
   "execution_count": 38,
   "metadata": {},
   "outputs": [
    {
     "data": {
      "text/plain": [
       "array([ -5.05617578e-04,   1.64474881e-04,   9.16748716e-04,\n",
       "        -6.05899958e-05,  -2.03046512e-03,  -9.42382693e-04,\n",
       "         2.38647750e-04,  -4.09276994e-04,   5.55397602e-04,\n",
       "         1.82823018e-03,   1.31839634e-03,   1.29478119e-03,\n",
       "        -1.18979603e-03,  -1.18283574e-03,   9.73538845e-04,\n",
       "        -7.61712947e-04,  -3.42906155e-06,   1.19003291e-03,\n",
       "        -9.82629710e-04,   1.20630281e-03,  -1.63019239e-03,\n",
       "        -1.15834201e-03,  -5.62144862e-04,  -6.21733568e-05,\n",
       "        -8.15121412e-04,  -7.76084182e-04,  -2.53885350e-04,\n",
       "        -6.44030565e-04,  -1.56818574e-03,  -7.85232018e-04,\n",
       "         7.12205539e-05,   1.18137600e-03,  -6.56329704e-04,\n",
       "        -4.60470672e-04,   2.13789592e-03,   1.88220126e-03,\n",
       "         1.60854816e-03,   2.39893958e-04,  -1.69970186e-03,\n",
       "        -1.60920013e-04,   8.29431937e-04,  -2.08670304e-04,\n",
       "        -1.74466410e-03,   1.40732604e-03,   1.02266736e-03,\n",
       "         6.21014978e-04,  -7.76461581e-04,   1.68317135e-03,\n",
       "         1.29882715e-03,   6.10267806e-05,  -5.69997615e-04,\n",
       "         4.81499561e-04,   1.16023372e-04,  -9.56199818e-04,\n",
       "         9.70892051e-04,  -6.14420565e-04,  -1.03884458e-03,\n",
       "         6.42635164e-04,   1.19252922e-03,   4.33539601e-04,\n",
       "        -2.10626880e-04,   1.23011058e-04,   8.86585705e-04,\n",
       "         2.41715317e-04,  -1.13271701e-03,   1.81699395e-04,\n",
       "         1.58897051e-03,   7.34618476e-04,   1.17041262e-03,\n",
       "        -2.13960339e-03,  -4.53930175e-04,   3.04980297e-04,\n",
       "        -1.05898072e-03,   2.52184224e-03,  -1.66069312e-03,\n",
       "        -1.22392913e-03,  -7.49429888e-04,   1.92837546e-04,\n",
       "        -1.11057810e-03,   5.79180113e-04,   2.10146104e-03,\n",
       "        -1.32278466e-03,  -2.11102231e-03,  -1.37034709e-03,\n",
       "         1.13821368e-04,   5.82644450e-04,  -1.98049843e-03,\n",
       "         1.19039490e-03,  -1.11898709e-03,   1.37116474e-04,\n",
       "         6.94187437e-04,   3.07948061e-04,   9.93567596e-04,\n",
       "        -1.05038775e-04,  -8.51921660e-04,   1.76334168e-03,\n",
       "         8.89237178e-04,  -3.74232972e-04,  -4.36203218e-04,\n",
       "        -2.05723322e-04,  -6.70228361e-05,   7.32531756e-04,\n",
       "         2.09732400e-04,  -9.54307726e-04,   8.35441410e-04,\n",
       "        -4.64309719e-04,  -8.16354942e-04,   2.13617430e-03,\n",
       "         6.08124493e-05,  -6.45300368e-05,   2.50736378e-03,\n",
       "         2.52444130e-03,   9.18483732e-04,   9.65193343e-04,\n",
       "         6.78700317e-04,  -6.03731473e-04,  -4.05943274e-04,\n",
       "        -5.54658295e-04,   1.47596804e-03,  -6.22921928e-04,\n",
       "        -1.86403855e-03,  -2.23508497e-04,   2.15945787e-03,\n",
       "         1.85542221e-04,   1.15784557e-04,   6.26754815e-04,\n",
       "         4.56197254e-04,   1.52724187e-03,  -1.09188416e-03,\n",
       "         2.11734066e-03,   3.12633160e-04,   1.62604632e-04,\n",
       "         6.02418593e-04,   4.46709317e-04,   2.15456007e-03,\n",
       "         6.32551877e-04,  -8.09548182e-04,   1.62966208e-03,\n",
       "        -9.78622326e-05,   2.74752365e-03,   4.02750215e-04,\n",
       "         3.10308665e-04,  -8.52387477e-04,   6.45294804e-04,\n",
       "         7.05290896e-04,  -3.63612569e-04,  -4.27942588e-04,\n",
       "         2.50831300e-03,   1.38760177e-04,   1.21397014e-03,\n",
       "        -4.10758681e-05,   1.07138468e-03,   5.08803605e-04,\n",
       "        -1.01694687e-03,   7.26644415e-04,  -5.62989077e-04,\n",
       "        -4.01404379e-04,   1.74298934e-03,  -3.50711238e-04,\n",
       "        -2.20908987e-05,  -1.45502072e-03,   1.19492803e-03,\n",
       "         4.14399918e-04,  -2.93829405e-04,   2.84480146e-04,\n",
       "        -8.63607031e-04,   1.54482193e-03,   1.03137990e-03,\n",
       "         5.79449361e-04,  -8.57682849e-04,   4.34056554e-04,\n",
       "        -8.89562558e-04,  -8.75532864e-04,  -2.50592014e-04,\n",
       "        -1.38069670e-04,   7.65512625e-04,  -1.05601820e-05,\n",
       "        -1.41601556e-03,   5.45274104e-04,  -2.14965175e-03,\n",
       "         9.35342077e-04,   8.19016884e-04,  -5.21394384e-05,\n",
       "        -3.64420450e-04,  -6.82884976e-05,   1.19285877e-04,\n",
       "        -1.54607121e-03,  -6.94721566e-05,  -1.91925410e-03,\n",
       "        -2.34595375e-03,   8.71115053e-04,  -1.52748701e-03,\n",
       "         1.21516967e-04,   1.30069561e-04,   2.85367312e-04,\n",
       "         2.10466767e-04,   3.00890844e-04,   2.26367377e-04,\n",
       "        -1.15388975e-03,  -1.17988216e-03,  -1.42859525e-03,\n",
       "         4.84932016e-04,   9.16467347e-04,  -2.04596574e-03,\n",
       "        -1.79327699e-03,   6.60795761e-04,   1.46883466e-03,\n",
       "         1.57515744e-03,  -6.83565076e-04,  -2.32938247e-03,\n",
       "        -1.01501896e-03,  -8.86989467e-04,   1.09247678e-03,\n",
       "         1.37749762e-03,  -9.72357868e-04,  -2.67355985e-04,\n",
       "        -9.24790158e-04,   2.66706603e-04,  -2.24095736e-03,\n",
       "         4.52655973e-04,  -1.17315493e-03,  -6.24527068e-04,\n",
       "        -1.71941405e-03,   6.46413252e-04,  -8.45869239e-04,\n",
       "         1.36673548e-04,   3.78572931e-04,   7.72944780e-04,\n",
       "        -1.12466769e-04,   2.07844859e-03,   3.77978563e-04,\n",
       "         2.33003131e-04,  -5.44727470e-04,  -1.75294071e-03,\n",
       "        -1.19589447e-03,   1.84989058e-04,  -1.15666128e-03,\n",
       "        -1.31019201e-04,   1.14246209e-03,  -1.38960749e-03,\n",
       "        -9.73204926e-05,  -1.33592404e-03,  -1.14599038e-04,\n",
       "         7.36882501e-04,   9.47817221e-04,   1.78474899e-04,\n",
       "        -1.66532367e-03,   3.31975986e-04,   2.55616529e-04,\n",
       "         2.80865728e-04])"
      ]
     },
     "execution_count": 38,
     "metadata": {},
     "output_type": "execute_result"
    }
   ],
   "source": [
    "noise"
   ]
  },
  {
   "cell_type": "code",
   "execution_count": 35,
   "metadata": {},
   "outputs": [],
   "source": [
    "fake_stock = spy_etf['Daily Return'].iloc[1:] + noise"
   ]
  },
  {
   "cell_type": "code",
   "execution_count": 36,
   "metadata": {},
   "outputs": [
    {
     "data": {
      "text/plain": [
       "<matplotlib.collections.PathCollection at 0x223c74f8780>"
      ]
     },
     "execution_count": 36,
     "metadata": {},
     "output_type": "execute_result"
    },
    {
     "data": {
      "image/png": "[encoded data removed]",
      "text/plain": [
       "<matplotlib.figure.Figure at 0x223c72e2ac8>"
      ]
     },
     "metadata": {},
     "output_type": "display_data"
    }
   ],
   "source": [
    "plt.scatter(fake_stock,spy_etf['Daily Return'].iloc[1:],alpha=0.25)"
   ]
  },
  {
   "cell_type": "markdown",
   "metadata": {},
   "source": [
    "We've generated some fake stock data to ensure CAPM is working property. We should expect a very high beta value now..."
   ]
  },
  {
   "cell_type": "code",
   "execution_count": 39,
   "metadata": {
    "collapsed": true
   },
   "outputs": [],
   "source": [
    "beta,alpha,r_value,p_value,std_err = stats.linregress(fake_stock,\n",
    "                                                     spy_etf['Daily Return'].iloc[1:])"
   ]
  },
  {
   "cell_type": "code",
   "execution_count": 40,
   "metadata": {},
   "outputs": [
    {
     "data": {
      "text/plain": [
       "0.93574275991966538"
      ]
     },
     "execution_count": 40,
     "metadata": {},
     "output_type": "execute_result"
    }
   ],
   "source": [
    "beta"
   ]
  },
  {
   "cell_type": "markdown",
   "metadata": {},
   "source": [
    "Note that the beta value is almost 1."
   ]
  },
  {
   "cell_type": "code",
   "execution_count": 41,
   "metadata": {},
   "outputs": [
    {
     "data": {
      "text/plain": [
       "2.3409217561389212e-05"
      ]
     },
     "execution_count": 41,
     "metadata": {},
     "output_type": "execute_result"
    }
   ],
   "source": [
    "alpha"
   ]
  },
  {
   "cell_type": "markdown",
   "metadata": {},
   "source": [
    "Also note that our alpha value is incredibly small."
   ]
  }
 ],
 "metadata": {
  "kernelspec": {
   "display_name": "Python 3",
   "language": "python",
   "name": "python3"
  },
  "language_info": {
   "codemirror_mode": {
    "name": "ipython",
    "version": 3
   },
   "file_extension": ".py",
   "mimetype": "text/x-python",
   "name": "python",
   "nbconvert_exporter": "python",
   "pygments_lexer": "ipython3",
   "version": "3.6.1"
  }
 },
 "nbformat": 4,
 "nbformat_minor": 2
}
